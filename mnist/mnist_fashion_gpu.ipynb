{
 "cells": [
  {
   "cell_type": "markdown",
   "metadata": {},
   "source": [
    "# MNIST fashion GPU"
   ]
  },
  {
   "cell_type": "code",
   "execution_count": 3,
   "metadata": {},
   "outputs": [
    {
     "name": "stdout",
     "output_type": "stream",
     "text": [
      "Accessory 0: 1107 occurrences\n",
      "Accessory 1: 953 occurrences\n",
      "Accessory 2: 968 occurrences\n",
      "Accessory 3: 1064 occurrences\n",
      "Accessory 4: 1172 occurrences\n",
      "Accessory 5: 884 occurrences\n",
      "Accessory 6: 690 occurrences\n",
      "Accessory 7: 1017 occurrences\n",
      "Accessory 8: 1038 occurrences\n",
      "Accessory 9: 1107 occurrences\n"
     ]
    }
   ],
   "source": [
    "import torch\n",
    "import torch.nn as nn\n",
    "import torch.optim as optim\n",
    "import torchvision.transforms as transforms\n",
    "from torch.utils.data import DataLoader\n",
    "from torchvision.datasets import FashionMNIST\n",
    "\n",
    "# Define a simple neural network\n",
    "class SimpleNN(nn.Module):\n",
    "    def __init__(self):\n",
    "        super(SimpleNN, self).__init__()\n",
    "        self.fc = nn.Linear(28 * 28, 10)\n",
    "\n",
    "    def forward(self, x):\n",
    "        x = x.view(-1, 28 * 28)\n",
    "        x = self.fc(x)\n",
    "        return x\n",
    "\n",
    "def train(model, train_loader, criterion, optimizer, device):\n",
    "    model.train()\n",
    "    for data, target in train_loader:\n",
    "        data, target = data.to(device), target.to(device)\n",
    "        optimizer.zero_grad()\n",
    "        output = model(data)\n",
    "        loss = criterion(output, target)\n",
    "        loss.backward()\n",
    "        optimizer.step()\n",
    "\n",
    "def count_occurrences(model, test_loader, device):\n",
    "    model.eval()\n",
    "    occurrences = torch.zeros(10, dtype=torch.long, device=device)\n",
    "    with torch.no_grad():\n",
    "        for data, target in test_loader:\n",
    "            data, target = data.to(device), target.to(device)\n",
    "            output = model(data)\n",
    "            _, predicted = torch.max(output, 1)\n",
    "            occurrences += torch.bincount(predicted, minlength=10)\n",
    "    return occurrences\n",
    "\n",
    "\n",
    "def main():\n",
    "    # Set device\n",
    "    device = torch.device(\"cuda\" if torch.cuda.is_available() else \"cpu\")\n",
    "\n",
    "    # Define transformations\n",
    "    transform = transforms.Compose([transforms.ToTensor()])\n",
    "\n",
    "    # Load MNIST Fashion dataset\n",
    "    train_dataset = FashionMNIST(root='./data', train=True, download=True, transform=transform)\n",
    "    test_dataset = FashionMNIST(root='./data', train=False, download=True, transform=transform)\n",
    "\n",
    "    # Create data loaders\n",
    "    train_loader = DataLoader(dataset=train_dataset, batch_size=64, shuffle=True)\n",
    "    test_loader = DataLoader(dataset=test_dataset, batch_size=64, shuffle=False)\n",
    "\n",
    "    # Initialize the model, criterion, and optimizer\n",
    "    model = SimpleNN().to(device)\n",
    "    criterion = nn.CrossEntropyLoss()\n",
    "    optimizer = optim.SGD(model.parameters(), lr=0.01)\n",
    "\n",
    "    # Train the model\n",
    "    for epoch in range(5):  # You can adjust the number of epochs\n",
    "        train(model, train_loader, criterion, optimizer, device)\n",
    "\n",
    "    # Count occurrences\n",
    "    occurrences = count_occurrences(model, test_loader, device)\n",
    "\n",
    "    # Print the occurrences\n",
    "    for i, count in enumerate(occurrences):\n",
    "        print(f\"Accessory {i}: {count.item()} occurrences\")\n",
    "\n",
    "if __name__ == \"__main__\":\n",
    "    main()\n"
   ]
  }
 ],
 "metadata": {
  "kernelspec": {
   "display_name": "Python 3",
   "language": "python",
   "name": "python3"
  },
  "language_info": {
   "codemirror_mode": {
    "name": "ipython",
    "version": 3
   },
   "file_extension": ".py",
   "mimetype": "text/x-python",
   "name": "python",
   "nbconvert_exporter": "python",
   "pygments_lexer": "ipython3",
   "version": "3.10.12"
  }
 },
 "nbformat": 4,
 "nbformat_minor": 2
}
